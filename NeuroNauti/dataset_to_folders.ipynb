{
 "cells": [
  {
   "cell_type": "markdown",
   "metadata": {},
   "source": [
    "# Data cleaning and augmentation"
   ]
  },
  {
   "cell_type": "markdown",
   "metadata": {},
   "source": [
    "## Imports"
   ]
  },
  {
   "cell_type": "code",
   "execution_count": 1,
   "metadata": {},
   "outputs": [],
   "source": [
    "import os\n",
    "import numpy as np\n",
    "import tensorflow as tf\n",
    "from tensorflow import keras as tfk\n",
    "from PIL import Image\n",
    "from sklearn.model_selection import train_test_split"
   ]
  },
  {
   "cell_type": "markdown",
   "metadata": {},
   "source": [
    "## Set up variables"
   ]
  },
  {
   "cell_type": "code",
   "execution_count": 2,
   "metadata": {},
   "outputs": [],
   "source": [
    "DATASET_PATH = \"../data/public_data.npz\"\n",
    "FOLDER_PATH = \"dataset\"\n",
    "SEED = 42\n",
    "TEST_SPLIT = 0.2\n",
    "TRAIN_PATH = \"train\"\n",
    "TEST_PATH = \"test\""
   ]
  },
  {
   "cell_type": "markdown",
   "metadata": {},
   "source": [
    "## Load data from npz file\n",
    "\n",
    "The data is split into two variables:\n",
    "\n",
    "1. `images`\n",
    "2. `labels`"
   ]
  },
  {
   "cell_type": "code",
   "execution_count": 3,
   "metadata": {},
   "outputs": [],
   "source": [
    "npz = np.load(DATASET_PATH, allow_pickle=True)\n",
    "images = npz[\"data\"]\n",
    "labels = npz[\"labels\"]"
   ]
  },
  {
   "cell_type": "markdown",
   "metadata": {},
   "source": [
    "## Remove Duplicates and Irrelevant Images\n",
    "\n",
    "The dataset was found to contain a lot of duplicate images and images that were not relevant to the task at hand. The following code removes these images."
   ]
  },
  {
   "cell_type": "code",
   "execution_count": 4,
   "metadata": {},
   "outputs": [
    {
     "name": "stdout",
     "output_type": "stream",
     "text": [
      "Removed 348 duplicates\n",
      "New dataset size: 4850\n"
     ]
    }
   ],
   "source": [
    "labels_dict = dict()\n",
    "duplicates = 0\n",
    "# iterate over the images\n",
    "for x, image in enumerate(images):\n",
    "    h = hash(image.tobytes())\n",
    "    # add the hash of the image to the dictionary\n",
    "    if h not in labels_dict:\n",
    "        labels_dict[h] = [x]\n",
    "    else:\n",
    "        labels_dict[h].append(x)\n",
    "        duplicates += 1\n",
    "\n",
    "\n",
    "# create new data set\n",
    "clean_data = []\n",
    "clean_labels = []\n",
    "# iterate over the labels\n",
    "for label in labels_dict.values():\n",
    "    #  images that are repeated more than 5 times are ignored (memes)\n",
    "    if len(label) > 5:\n",
    "        continue\n",
    "\n",
    "    # keep only the first image of the repeated ones\n",
    "    clean_data.append(images[label[0]])\n",
    "    clean_labels.append(labels[label[0]])\n",
    "\n",
    "print(f\"Removed {duplicates} duplicates\")\n",
    "print(f\"New dataset size: {len(clean_data)}\")\n",
    "\n",
    "images = np.array(clean_data)\n",
    "labels = np.array(clean_labels)"
   ]
  },
  {
   "cell_type": "markdown",
   "metadata": {},
   "source": [
    "## Save Images to Folders"
   ]
  },
  {
   "cell_type": "code",
   "execution_count": 5,
   "metadata": {},
   "outputs": [],
   "source": [
    "# split the dataset into validation and test sets\n",
    "images_train_val, images_test, labels_train_val, labels_test = train_test_split(\n",
    "    images,\n",
    "    labels,\n",
    "    random_state=SEED,\n",
    "    test_size=TEST_SPLIT,\n",
    "    stratify=labels,\n",
    ")\n",
    "\n",
    "# create the main folder\n",
    "if not os.path.isdir(FOLDER_PATH):\n",
    "    os.mkdir(FOLDER_PATH)\n",
    "\n",
    "# create train/test folders\n",
    "if not os.path.isdir(f\"{FOLDER_PATH}/{TRAIN_PATH}\"):\n",
    "    os.mkdir(f\"{FOLDER_PATH}/{TRAIN_PATH}\")\n",
    "if not os.path.isdir(f\"{FOLDER_PATH}/{TEST_PATH}\"):\n",
    "    os.mkdir(f\"{FOLDER_PATH}/{TEST_PATH}\")\n",
    "\n",
    "# create the subfolders\n",
    "for c in set(labels):\n",
    "    if not os.path.isdir(f\"{FOLDER_PATH}/{TRAIN_PATH}/{c}\"):\n",
    "        os.mkdir(f\"{FOLDER_PATH}/{TRAIN_PATH}/{c}\")\n",
    "    if not os.path.isdir(f\"{FOLDER_PATH}/{TEST_PATH}/{c}\"):\n",
    "        os.mkdir(f\"{FOLDER_PATH}/{TEST_PATH}/{c}\")\n",
    "\n",
    "# save train images\n",
    "count = 0\n",
    "for image, label in zip(images_train_val, labels_train_val):\n",
    "    arr = np.array(image, dtype=np.uint8)\n",
    "    img = Image.fromarray(arr)\n",
    "    img.save(f\"{FOLDER_PATH}/{TRAIN_PATH}/{label}/{count}.png\")\n",
    "    count += 1\n",
    "\n",
    "# save test images\n",
    "count = 0\n",
    "for image, label in zip(images_test, labels_test):\n",
    "    arr = np.array(image, dtype=np.uint8)\n",
    "    img = Image.fromarray(arr)\n",
    "    img.save(f\"{FOLDER_PATH}/{TEST_PATH}/{label}/{count}.png\")\n",
    "    count += 1"
   ]
  }
 ],
 "metadata": {
  "kernelspec": {
   "display_name": "venv",
   "language": "python",
   "name": "python3"
  },
  "language_info": {
   "codemirror_mode": {
    "name": "ipython",
    "version": 3
   },
   "file_extension": ".py",
   "mimetype": "text/x-python",
   "name": "python",
   "nbconvert_exporter": "python",
   "pygments_lexer": "ipython3",
   "version": "3.10.13"
  }
 },
 "nbformat": 4,
 "nbformat_minor": 2
}
