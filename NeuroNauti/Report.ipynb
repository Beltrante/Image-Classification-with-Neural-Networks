{
 "cells": [
  {
   "cell_type": "markdown",
   "id": "5c14f766",
   "metadata": {
    "papermill": {
     "duration": 0.009686,
     "end_time": "2023-11-16T19:34:02.051737",
     "exception": false,
     "start_time": "2023-11-16T19:34:02.042051",
     "status": "completed"
    },
    "tags": []
   },
   "source": [
    "## Import the necessary libraries\n"
   ]
  },
  {
   "cell_type": "code",
   "execution_count": 1,
   "id": "fc8cbab1",
   "metadata": {
    "papermill": {
     "duration": 13.618595,
     "end_time": "2023-11-16T19:35:15.036369",
     "exception": false,
     "start_time": "2023-11-16T19:35:01.417774",
     "status": "completed"
    },
    "tags": []
   },
   "outputs": [
    {
     "name": "stderr",
     "output_type": "stream",
     "text": [
      "2023-12-06 11:13:30.539370: I tensorflow/core/util/port.cc:111] oneDNN custom operations are on. You may see slightly different numerical results due to floating-point round-off errors from different computation orders. To turn them off, set the environment variable `TF_ENABLE_ONEDNN_OPTS=0`.\n",
      "2023-12-06 11:13:30.561175: I tensorflow/tsl/cuda/cudart_stub.cc:28] Could not find cuda drivers on your machine, GPU will not be used.\n",
      "2023-12-06 11:13:30.648705: E tensorflow/compiler/xla/stream_executor/cuda/cuda_dnn.cc:9342] Unable to register cuDNN factory: Attempting to register factory for plugin cuDNN when one has already been registered\n",
      "2023-12-06 11:13:30.648725: E tensorflow/compiler/xla/stream_executor/cuda/cuda_fft.cc:609] Unable to register cuFFT factory: Attempting to register factory for plugin cuFFT when one has already been registered\n",
      "2023-12-06 11:13:30.649383: E tensorflow/compiler/xla/stream_executor/cuda/cuda_blas.cc:1518] Unable to register cuBLAS factory: Attempting to register factory for plugin cuBLAS when one has already been registered\n",
      "2023-12-06 11:13:30.689188: I tensorflow/tsl/cuda/cudart_stub.cc:28] Could not find cuda drivers on your machine, GPU will not be used.\n",
      "2023-12-06 11:13:30.690101: I tensorflow/core/platform/cpu_feature_guard.cc:182] This TensorFlow binary is optimized to use available CPU instructions in performance-critical operations.\n",
      "To enable the following instructions: AVX2 AVX_VNNI FMA, in other operations, rebuild TensorFlow with the appropriate compiler flags.\n",
      "2023-12-06 11:13:31.553677: W tensorflow/compiler/tf2tensorrt/utils/py_utils.cc:38] TF-TRT Warning: Could not find TensorRT\n"
     ]
    },
    {
     "name": "stdout",
     "output_type": "stream",
     "text": [
      "Using TensorFlow backend\n",
      "2.14.0\n",
      "True\n",
      "[]\n"
     ]
    },
    {
     "name": "stderr",
     "output_type": "stream",
     "text": [
      "2023-12-06 11:13:34.663455: I tensorflow/compiler/xla/stream_executor/cuda/cuda_gpu_executor.cc:894] successful NUMA node read from SysFS had negative value (-1), but there must be at least one NUMA node, so returning NUMA node zero. See more at https://github.com/torvalds/linux/blob/v6.0/Documentation/ABI/testing/sysfs-bus-pci#L344-L355\n",
      "2023-12-06 11:13:34.718073: W tensorflow/core/common_runtime/gpu/gpu_device.cc:2211] Cannot dlopen some GPU libraries. Please make sure the missing libraries mentioned above are installed properly if you would like to use GPU. Follow the guide at https://www.tensorflow.org/install/gpu for how to download and setup the required libraries for your platform.\n",
      "Skipping registering GPU devices...\n"
     ]
    }
   ],
   "source": [
    "import os\n",
    "import random\n",
    "\n",
    "import keras_cv\n",
    "import matplotlib.pyplot as plt\n",
    "import numpy as np\n",
    "import tensorflow as tf\n",
    "from keras import layers as tfkl\n",
    "from PIL import ImageFont\n",
    "from sklearn.utils import compute_class_weight\n",
    "from tensorflow import keras as tfk\n",
    "\n",
    "\n",
    "print(tf.__version__)\n",
    "print(tf.test.is_built_with_cuda())\n",
    "print(tf.config.list_physical_devices(\"GPU\"))\n",
    "\n",
    "FOLDER_PATH = \"dataset\"\n",
    "TRAIN_PATH = \"train\"\n",
    "TEST_PATH = \"test\""
   ]
  },
  {
   "cell_type": "markdown",
   "id": "d0515b13",
   "metadata": {
    "papermill": {
     "duration": 0.022673,
     "end_time": "2023-11-16T19:35:15.083110",
     "exception": false,
     "start_time": "2023-11-16T19:35:15.060437",
     "status": "completed"
    },
    "tags": []
   },
   "source": [
    "### Set seed for reproducibility\n"
   ]
  },
  {
   "cell_type": "code",
   "execution_count": null,
   "id": "9f09c7d0",
   "metadata": {
    "papermill": {
     "duration": 0.03188,
     "end_time": "2023-11-16T19:35:15.137304",
     "exception": false,
     "start_time": "2023-11-16T19:35:15.105424",
     "status": "completed"
    },
    "tags": []
   },
   "outputs": [],
   "source": [
    "seed = 42\n",
    "\n",
    "random.seed(seed)\n",
    "os.environ[\"PYTHONHASHSEED\"] = str(seed)\n",
    "np.random.seed(seed)\n",
    "tf.random.set_seed(seed)\n",
    "tf.compat.v1.set_random_seed(seed)"
   ]
  },
  {
   "cell_type": "markdown",
   "id": "e94d74f2",
   "metadata": {
    "papermill": {
     "duration": 0.021886,
     "end_time": "2023-11-16T19:35:37.181877",
     "exception": false,
     "start_time": "2023-11-16T19:35:37.159991",
     "status": "completed"
    },
    "tags": []
   },
   "source": [
    "## Load data\n"
   ]
  },
  {
   "cell_type": "code",
   "execution_count": null,
   "id": "299d48bd",
   "metadata": {
    "papermill": {
     "duration": 5.880037,
     "end_time": "2023-11-16T19:35:43.084111",
     "exception": false,
     "start_time": "2023-11-16T19:35:37.204074",
     "status": "completed"
    },
    "tags": []
   },
   "outputs": [],
   "source": [
    "VALIDATION_SPLIT = 0.2\n",
    "image_size = (96, 96)\n",
    "input_shape = (96, 96, 3)\n",
    "batch_size = 64\n",
    "\n",
    "training_set, validation_set = tf.keras.preprocessing.image_dataset_from_directory(\n",
    "    FOLDER_PATH + \"/\" + TRAIN_PATH,\n",
    "    labels=\"inferred\",\n",
    "    label_mode=\"categorical\",\n",
    "    image_size=image_size,\n",
    "    color_mode=\"rgb\",\n",
    "    batch_size=batch_size,\n",
    "    validation_split=VALIDATION_SPLIT,\n",
    "    subset=\"both\",  # validation and training,\n",
    "    shuffle=True,\n",
    "    seed=seed,\n",
    ")\n",
    "test_set = tf.keras.preprocessing.image_dataset_from_directory(\n",
    "    FOLDER_PATH + \"/\" + TEST_PATH,\n",
    "    labels=\"inferred\",\n",
    "    label_mode=\"categorical\",\n",
    "    image_size=image_size,\n",
    "    batch_size=batch_size,\n",
    "    seed=seed,\n",
    ")"
   ]
  },
  {
   "cell_type": "markdown",
   "id": "9a2197aa",
   "metadata": {
    "papermill": {
     "duration": 0.022197,
     "end_time": "2023-11-16T19:35:43.128957",
     "exception": false,
     "start_time": "2023-11-16T19:35:43.106760",
     "status": "completed"
    },
    "tags": []
   },
   "source": [
    "### CutMix + MixUP augmentation\n"
   ]
  },
  {
   "cell_type": "code",
   "execution_count": null,
   "id": "bcadb0ea",
   "metadata": {
    "papermill": {
     "duration": 3.564061,
     "end_time": "2023-11-16T19:35:46.716206",
     "exception": false,
     "start_time": "2023-11-16T19:35:43.152145",
     "status": "completed"
    },
    "tags": []
   },
   "outputs": [],
   "source": [
    "# We used this two complex type of data augmentation to reduce overfitting on provided data\n",
    "# https://keras.io/guides/keras_cv/cut_mix_mix_up_and_rand_augment/ for more information\n",
    "\n",
    "\n",
    "def to_dict(img, label):\n",
    "    # First line also scales to [0,1]\n",
    "    img = tf.image.convert_image_dtype(img, tf.float32)\n",
    "    img = tf.cast(img, tf.float32)\n",
    "    return {\"images\": img, \"labels\": label}\n",
    "\n",
    "\n",
    "def prep_for_model(inputs):\n",
    "    images, labels = inputs[\"images\"], inputs[\"labels\"]\n",
    "    images = tf.cast(images, tf.float32)\n",
    "    return images, labels\n",
    "\n",
    "\n",
    "# N:B keras_cv expect target to be one hot encoded\n",
    "def cutmix_or_mixup(samples):\n",
    "    # half of the images are augmented with cutmix and remaining with mixup\n",
    "    if tf.random.uniform(()) > 0.5:\n",
    "        samples = keras_cv.layers.CutMix()(samples)\n",
    "    else:\n",
    "        samples = keras_cv.layers.MixUp()(samples)\n",
    "    return samples\n",
    "\n",
    "\n",
    "training_set = training_set.map(to_dict).map(cutmix_or_mixup).map(prep_for_model)"
   ]
  },
  {
   "cell_type": "markdown",
   "metadata": {},
   "source": [
    "### Display sample augmented images"
   ]
  },
  {
   "cell_type": "code",
   "execution_count": null,
   "id": "94be9462",
   "metadata": {
    "papermill": {
     "duration": 0.67235,
     "end_time": "2023-11-16T19:35:47.457037",
     "exception": false,
     "start_time": "2023-11-16T19:35:46.784687",
     "status": "completed"
    },
    "tags": []
   },
   "outputs": [],
   "source": [
    "# Display an example of augmented image\n",
    "\n",
    "image_batch, label_batch = next(iter(training_set))\n",
    "print(\"Expected result is a mix:\")\n",
    "print(label_batch[2])\n",
    "\n",
    "plt.figure(figsize=(15, 15))\n",
    "first_image = image_batch[2]\n",
    "ax = plt.subplot(3, 3, 1)\n",
    "plt.imshow(first_image / 255)\n",
    "plt.show()"
   ]
  },
  {
   "cell_type": "markdown",
   "id": "13c4b70d",
   "metadata": {
    "papermill": {
     "duration": 0.023315,
     "end_time": "2023-11-16T19:35:47.504179",
     "exception": false,
     "start_time": "2023-11-16T19:35:47.480864",
     "status": "completed"
    },
    "tags": []
   },
   "source": [
    "### Calculate class weights\n"
   ]
  },
  {
   "cell_type": "code",
   "execution_count": null,
   "id": "68bd53a6",
   "metadata": {
    "papermill": {
     "duration": 0.210109,
     "end_time": "2023-11-16T19:35:47.741704",
     "exception": false,
     "start_time": "2023-11-16T19:35:47.531595",
     "status": "completed"
    },
    "tags": []
   },
   "outputs": [],
   "source": [
    "# Since the classes have different cardinalities we calculate the classes weights to improve training\n",
    "\n",
    "\n",
    "def calculate_weight(y_train: np.array) -> dict:\n",
    "    unique = np.unique(y_train, return_counts=False)\n",
    "    # 'balanced' mode adjusts weights inversely proportional to class frequencies\n",
    "    class_weights = compute_class_weight(\n",
    "        class_weight=\"balanced\", classes=unique, y=y_train\n",
    "    )\n",
    "    return dict(enumerate(class_weights.flatten()))\n",
    "\n",
    "\n",
    "datagen = tf.keras.preprocessing.image.ImageDataGenerator()\n",
    "data = datagen.flow_from_directory(FOLDER_PATH + \"/\" + TRAIN_PATH)\n",
    "class_weights = calculate_weight(data.classes)\n",
    "print(class_weights)"
   ]
  },
  {
   "cell_type": "markdown",
   "id": "1d57a7e0",
   "metadata": {
    "papermill": {
     "duration": 0.024079,
     "end_time": "2023-11-16T19:35:47.790783",
     "exception": false,
     "start_time": "2023-11-16T19:35:47.766704",
     "status": "completed"
    },
    "tags": []
   },
   "source": [
    "## Transfer Learning\n"
   ]
  },
  {
   "cell_type": "markdown",
   "metadata": {},
   "source": [
    "### Define some Hyperparameters"
   ]
  },
  {
   "cell_type": "code",
   "execution_count": null,
   "id": "ffc997f6",
   "metadata": {
    "papermill": {
     "duration": 0.031949,
     "end_time": "2023-11-16T19:35:47.847155",
     "exception": false,
     "start_time": "2023-11-16T19:35:47.815206",
     "status": "completed"
    },
    "tags": []
   },
   "outputs": [],
   "source": [
    "TL_LEARNING_RATE = 1e-3  # Learning rate\n",
    "TL_EPOCHS = 200  # Max epochs of training\n",
    "TL_ES_PATIENCE = 30  # Early stopping patience"
   ]
  },
  {
   "cell_type": "markdown",
   "id": "d2fc221b",
   "metadata": {
    "papermill": {
     "duration": 0.023402,
     "end_time": "2023-11-16T19:35:47.894266",
     "exception": false,
     "start_time": "2023-11-16T19:35:47.870864",
     "status": "completed"
    },
    "tags": []
   },
   "source": [
    "### Define the basic data augmentation layers\n"
   ]
  },
  {
   "cell_type": "code",
   "execution_count": null,
   "id": "2d9d5cf9",
   "metadata": {
    "papermill": {
     "duration": 0.044736,
     "end_time": "2023-11-16T19:35:47.962554",
     "exception": false,
     "start_time": "2023-11-16T19:35:47.917818",
     "status": "completed"
    },
    "tags": []
   },
   "outputs": [],
   "source": [
    "# We define three layers of random augmentation that will be placed before the base keras model\n",
    "data_augmentation = tf.keras.Sequential(\n",
    "    [\n",
    "        tfkl.RandomFlip(\"horizontal_and_vertical\"),\n",
    "        tfkl.RandomRotation(factor=0.4, fill_mode=\"reflect\"),\n",
    "        tfkl.RandomZoom(height_factor=-0.2),\n",
    "    ],\n",
    "    name=\"data_augmentation\",\n",
    ")"
   ]
  },
  {
   "cell_type": "markdown",
   "id": "d40afde7",
   "metadata": {
    "papermill": {
     "duration": 0.023282,
     "end_time": "2023-11-16T19:35:48.010029",
     "exception": false,
     "start_time": "2023-11-16T19:35:47.986747",
     "status": "completed"
    },
    "tags": []
   },
   "source": [
    "### Load base model from keras\n"
   ]
  },
  {
   "cell_type": "code",
   "execution_count": null,
   "id": "7a46a082",
   "metadata": {
    "papermill": {
     "duration": 12.685609,
     "end_time": "2023-11-16T19:36:00.719427",
     "exception": false,
     "start_time": "2023-11-16T19:35:48.033818",
     "status": "completed"
    },
    "tags": []
   },
   "outputs": [],
   "source": [
    "MODEL_NAME = \"ConvNeXtLarge\"\n",
    "base_model = tfk.applications.convnext.ConvNeXtLarge(\n",
    "    input_shape=input_shape,\n",
    "    include_top=False,\n",
    "    weights=\"imagenet\",\n",
    ")\n",
    "# Set base model as non trainable and import its preprocessing layer\n",
    "base_model.trainable = False\n",
    "preprocess_input = tfk.applications.convnext.preprocess_input"
   ]
  },
  {
   "cell_type": "markdown",
   "id": "2f40846c",
   "metadata": {
    "papermill": {
     "duration": 0.030586,
     "end_time": "2023-11-16T19:36:00.780682",
     "exception": false,
     "start_time": "2023-11-16T19:36:00.750096",
     "status": "completed"
    },
    "tags": []
   },
   "source": [
    "### Create complete model for transfer learning\n"
   ]
  },
  {
   "cell_type": "code",
   "execution_count": null,
   "id": "b6039ae8",
   "metadata": {
    "papermill": {
     "duration": 2.59496,
     "end_time": "2023-11-16T19:36:03.406218",
     "exception": false,
     "start_time": "2023-11-16T19:36:00.811258",
     "status": "completed"
    },
    "tags": []
   },
   "outputs": [],
   "source": [
    "# We use the keras model to do feature extraction and add our custom layers for the final prediction\n",
    "model = tfk.Sequential(\n",
    "    [\n",
    "        tfk.Input(shape=input_shape),\n",
    "        data_augmentation,\n",
    "        # Use Lambda as preprocess must be a layer to be added to Sequential model\n",
    "        tfkl.Lambda(preprocess_input, name=\"base_model_preprocessing\"),\n",
    "        base_model,\n",
    "        tfkl.Flatten(),\n",
    "        tfkl.Dropout(0.4),\n",
    "        tfkl.Dense(\n",
    "            1024,\n",
    "            activation=\"relu\",\n",
    "            kernel_regularizer=tf.keras.regularizers.L1L2(1e-3),\n",
    "            kernel_initializer=tfk.initializers.HeUniform(seed),\n",
    "        ),\n",
    "        tfkl.Dense(\n",
    "            1024,\n",
    "            activation=\"relu\",\n",
    "            kernel_regularizer=tf.keras.regularizers.L1L2(1e-3),\n",
    "            kernel_initializer=tfk.initializers.HeUniform(seed),\n",
    "        ),\n",
    "        tfkl.Dropout(0.3),\n",
    "        tfkl.Dense(\n",
    "            2,\n",
    "            activation=\"softmax\",\n",
    "            kernel_initializer=tf.keras.initializers.GlorotUniform(seed),\n",
    "        ),\n",
    "    ]\n",
    ")\n",
    "\n",
    "# Compile the model and display its summary\n",
    "model.compile(\n",
    "    loss=tfk.losses.CategoricalCrossentropy(),\n",
    "    optimizer=tfk.optimizers.Adam(TL_LEARNING_RATE),\n",
    "    metrics=\"accuracy\",\n",
    ")\n",
    "model.summary()"
   ]
  },
  {
   "cell_type": "markdown",
   "id": "90189ea4",
   "metadata": {
    "papermill": {
     "duration": 0.035137,
     "end_time": "2023-11-16T19:36:03.477444",
     "exception": false,
     "start_time": "2023-11-16T19:36:03.442307",
     "status": "completed"
    },
    "tags": []
   },
   "source": [
    "### Train model\n"
   ]
  },
  {
   "cell_type": "code",
   "execution_count": null,
   "id": "54fbe9eb",
   "metadata": {
    "papermill": {
     "duration": 1058.912966,
     "end_time": "2023-11-16T19:53:42.424070",
     "exception": false,
     "start_time": "2023-11-16T19:36:03.511104",
     "status": "completed"
    },
    "tags": []
   },
   "outputs": [],
   "source": [
    "# We noticed that reducing learning rate in this phase did not provide any benefit so we do not use it\n",
    "# We also noticed that using validation accuracy as our early stopping metric instead of validation loss gave us better result in the challenge\n",
    "es_callback = tfk.callbacks.EarlyStopping(\n",
    "    monitor=\"val_accuracy\",\n",
    "    mode=\"max\",\n",
    "    patience=TL_ES_PATIENCE,\n",
    "    restore_best_weights=True,\n",
    ")\n",
    "model_history = model.fit(\n",
    "    training_set,\n",
    "    batch_size=batch_size,\n",
    "    shuffle=True,\n",
    "    validation_data=validation_set,\n",
    "    epochs=TL_EPOCHS,\n",
    "    callbacks=[es_callback],\n",
    "    class_weight=class_weights,  # training will take in consideration class weights distribution\n",
    ")\n",
    "\n",
    "# Save the trained model\n",
    "model.save(f\"Models/best/{MODEL_NAME}/fullModel\")"
   ]
  },
  {
   "cell_type": "markdown",
   "id": "495c602b",
   "metadata": {
    "papermill": {
     "duration": 0.287951,
     "end_time": "2023-11-16T19:53:42.997946",
     "exception": false,
     "start_time": "2023-11-16T19:53:42.709995",
     "status": "completed"
    },
    "tags": []
   },
   "source": [
    "### Plot training results\n"
   ]
  },
  {
   "cell_type": "code",
   "execution_count": null,
   "id": "5ae744ee",
   "metadata": {
    "papermill": {
     "duration": 0.907031,
     "end_time": "2023-11-16T19:53:44.198708",
     "exception": false,
     "start_time": "2023-11-16T19:53:43.291677",
     "status": "completed"
    },
    "tags": []
   },
   "outputs": [],
   "source": [
    "acc = model_history.history[\"accuracy\"]\n",
    "val_acc = model_history.history[\"val_accuracy\"]\n",
    "\n",
    "loss = model_history.history[\"loss\"]\n",
    "val_loss = model_history.history[\"val_loss\"]\n",
    "\n",
    "plt.figure(figsize=(20, 8))\n",
    "plt.subplot(2, 1, 1)\n",
    "plt.plot(acc, label=\"Training Accuracy\")\n",
    "plt.plot(val_acc, label=\"Validation Accuracy\")\n",
    "plt.ylim([min(plt.ylim()), 1])\n",
    "plt.plot(\n",
    "    [es_callback.best_epoch, es_callback.best_epoch],\n",
    "    plt.ylim(),\n",
    "    label=\"Best Epoch\",\n",
    ")\n",
    "plt.legend(loc=\"lower right\")\n",
    "plt.title(\"Accuracy\")\n",
    "\n",
    "plt.subplot(2, 1, 2)\n",
    "plt.plot(loss, label=\"Training Loss\")\n",
    "plt.plot(val_loss, label=\"Validation Loss\")\n",
    "plt.ylim([0, max(plt.ylim())])\n",
    "plt.plot(\n",
    "    [es_callback.best_epoch, es_callback.best_epoch],\n",
    "    plt.ylim(),\n",
    "    label=\"Best Epoch\",\n",
    ")\n",
    "plt.legend(loc=\"upper right\")\n",
    "plt.title(\"Loss\")\n",
    "plt.show()"
   ]
  },
  {
   "cell_type": "markdown",
   "id": "d540b64d",
   "metadata": {
    "papermill": {
     "duration": 0.290695,
     "end_time": "2023-11-16T19:53:44.780069",
     "exception": false,
     "start_time": "2023-11-16T19:53:44.489374",
     "status": "completed"
    },
    "tags": []
   },
   "source": [
    "## Fine Tuning\n"
   ]
  },
  {
   "cell_type": "markdown",
   "metadata": {},
   "source": [
    "### Define some Hyperparameters"
   ]
  },
  {
   "cell_type": "code",
   "execution_count": null,
   "id": "cad541c8",
   "metadata": {
    "papermill": {
     "duration": 0.299043,
     "end_time": "2023-11-16T19:53:45.368773",
     "exception": false,
     "start_time": "2023-11-16T19:53:45.069730",
     "status": "completed"
    },
    "tags": []
   },
   "outputs": [],
   "source": [
    "FT_TOTAL_EPOCHS = es_callback.best_epoch + 200\n",
    "FT_ES_PATIENCE = 30\n",
    "FT_LEARNING_RATE = 5e-5\n",
    "N_UNFREEZE_LAYERS = 999  # Can be set lower to unfreeze only part of the model\n",
    "\n",
    "FT_LR_PATIENCE = 10  # Patience before reducing learning rate\n",
    "FT_LR_FACTOR = 0.5  # Reduction factor when plateau is reached"
   ]
  },
  {
   "cell_type": "markdown",
   "id": "b06dbe32",
   "metadata": {
    "papermill": {
     "duration": 0.294182,
     "end_time": "2023-11-16T19:53:45.952129",
     "exception": false,
     "start_time": "2023-11-16T19:53:45.657947",
     "status": "completed"
    },
    "tags": []
   },
   "source": [
    "### Create a new model from the previously trained one\n"
   ]
  },
  {
   "cell_type": "code",
   "execution_count": null,
   "id": "c047cb9c",
   "metadata": {
    "papermill": {
     "duration": 1.970503,
     "end_time": "2023-11-16T19:53:48.229599",
     "exception": false,
     "start_time": "2023-11-16T19:53:46.259096",
     "status": "completed"
    },
    "tags": []
   },
   "outputs": [],
   "source": [
    "ft_model = model\n",
    "\n",
    "ft_model.compile(\n",
    "    optimizer=tfk.optimizers.Adam(FT_LEARNING_RATE),\n",
    "    loss=tfk.losses.CategoricalCrossentropy(),\n",
    "    metrics=[\"accuracy\"],\n",
    ")\n",
    "ft_model.set_weights(model.get_weights())\n",
    "ft_model.summary()"
   ]
  },
  {
   "cell_type": "markdown",
   "id": "b17ab1bf",
   "metadata": {
    "papermill": {
     "duration": 0.292113,
     "end_time": "2023-11-16T19:53:48.815519",
     "exception": false,
     "start_time": "2023-11-16T19:53:48.523406",
     "status": "completed"
    },
    "tags": []
   },
   "source": [
    "### Unfreeze the base model layers to fine tune them in combination with the added ones\n"
   ]
  },
  {
   "cell_type": "code",
   "execution_count": null,
   "id": "e0e2f200",
   "metadata": {
    "papermill": {
     "duration": 0.462637,
     "end_time": "2023-11-16T19:53:49.569407",
     "exception": false,
     "start_time": "2023-11-16T19:53:49.106770",
     "status": "completed"
    },
    "tags": []
   },
   "outputs": [],
   "source": [
    "ft_model.get_layer(base_model.name).trainable = True\n",
    "\n",
    "layer_index = 0\n",
    "for i in reversed(range(len(ft_model.get_layer(base_model.name).layers))):\n",
    "    layer = ft_model.get_layer(base_model.name).layers[i]\n",
    "    # Documentation on fine tuning point out that batch normalization should be frozen\n",
    "    if layer_index < N_UNFREEZE_LAYERS and not isinstance(\n",
    "        layer,\n",
    "        tfkl.BatchNormalization,\n",
    "    ):\n",
    "        layer_index += 1\n",
    "        layer.trainable = True\n",
    "    else:\n",
    "        layer.trainable = False\n",
    "\n",
    "    print(i, layer.name, layer.trainable)"
   ]
  },
  {
   "cell_type": "markdown",
   "id": "5ac3322d",
   "metadata": {
    "papermill": {
     "duration": 0.294322,
     "end_time": "2023-11-16T19:53:50.157107",
     "exception": false,
     "start_time": "2023-11-16T19:53:49.862785",
     "status": "completed"
    },
    "tags": []
   },
   "source": [
    "### Compile the new model\n"
   ]
  },
  {
   "cell_type": "code",
   "execution_count": null,
   "id": "aa235705",
   "metadata": {
    "papermill": {
     "duration": 0.370417,
     "end_time": "2023-11-16T19:53:50.821431",
     "exception": false,
     "start_time": "2023-11-16T19:53:50.451014",
     "status": "completed"
    },
    "tags": []
   },
   "outputs": [],
   "source": [
    "ft_model.compile(\n",
    "    optimizer=tfk.optimizers.Adam(FT_LEARNING_RATE),\n",
    "    loss=tfk.losses.CategoricalCrossentropy(),\n",
    "    metrics=[\"accuracy\"],\n",
    ")\n",
    "ft_model.summary()"
   ]
  },
  {
   "cell_type": "markdown",
   "id": "e5de0f51",
   "metadata": {
    "papermill": {
     "duration": 0.35577,
     "end_time": "2023-11-16T19:53:51.472277",
     "exception": false,
     "start_time": "2023-11-16T19:53:51.116507",
     "status": "completed"
    },
    "tags": []
   },
   "source": [
    "### Train the model once more\n"
   ]
  },
  {
   "cell_type": "code",
   "execution_count": null,
   "id": "dba5ce17",
   "metadata": {
    "papermill": {
     "duration": 3538.829863,
     "end_time": "2023-11-16T20:52:50.597953",
     "exception": false,
     "start_time": "2023-11-16T19:53:51.768090",
     "status": "completed"
    },
    "tags": []
   },
   "outputs": [],
   "source": [
    "ft_es_callback = tfk.callbacks.EarlyStopping(\n",
    "    monitor=\"val_accuracy\",\n",
    "    mode=\"max\",\n",
    "    patience=FT_ES_PATIENCE,\n",
    "    restore_best_weights=True,\n",
    ")\n",
    "ft_reduce_lr_callback = tfk.callbacks.ReduceLROnPlateau(\n",
    "    monitor=\"val_accuracy\",\n",
    "    patience=FT_LR_PATIENCE,\n",
    "    factor=FT_LR_FACTOR,\n",
    "    mode=\"max\",\n",
    "    min_lr=1e-6,\n",
    ")\n",
    "ft_history = ft_model.fit(\n",
    "    training_set,\n",
    "    epochs=FT_TOTAL_EPOCHS,\n",
    "    batch_size=batch_size,\n",
    "    shuffle=True,\n",
    "    initial_epoch=es_callback.best_epoch,\n",
    "    validation_data=validation_set,\n",
    "    callbacks=[ft_es_callback, ft_reduce_lr_callback],\n",
    "    class_weight=class_weights,\n",
    ")\n",
    "\n",
    "# Save the fine tuned model\n",
    "ft_model.save(f\"Models/best/{MODEL_NAME}/ft-fullModel\")"
   ]
  },
  {
   "cell_type": "markdown",
   "metadata": {},
   "source": [
    "## Results"
   ]
  },
  {
   "cell_type": "markdown",
   "id": "bf91e5b4",
   "metadata": {
    "papermill": {
     "duration": 0.726986,
     "end_time": "2023-11-16T20:52:51.984725",
     "exception": false,
     "start_time": "2023-11-16T20:52:51.257739",
     "status": "completed"
    },
    "tags": []
   },
   "source": [
    "### Plot loss and accuracy curves\n"
   ]
  },
  {
   "cell_type": "code",
   "execution_count": null,
   "id": "1dc09518",
   "metadata": {
    "papermill": {
     "duration": 1.316928,
     "end_time": "2023-11-16T20:52:53.956051",
     "exception": false,
     "start_time": "2023-11-16T20:52:52.639123",
     "status": "completed"
    },
    "tags": []
   },
   "outputs": [],
   "source": [
    "# cut everything after best epoch\n",
    "acc = (\n",
    "    model_history.history[\"accuracy\"][: es_callback.best_epoch]\n",
    "    + ft_history.history[\"accuracy\"]\n",
    ")\n",
    "loss = (\n",
    "    model_history.history[\"loss\"][: es_callback.best_epoch] + ft_history.history[\"loss\"]\n",
    ")\n",
    "val_acc = (\n",
    "    model_history.history[\"val_accuracy\"][: es_callback.best_epoch]\n",
    "    + ft_history.history[\"val_accuracy\"]\n",
    ")\n",
    "val_loss = (\n",
    "    model_history.history[\"val_loss\"][: es_callback.best_epoch]\n",
    "    + ft_history.history[\"val_loss\"]\n",
    ")\n",
    "\n",
    "# Plot accuracy_objectGetValue\n",
    "plt.figure(figsize=(20, 8))\n",
    "plt.subplot(2, 1, 1)\n",
    "plt.plot(acc, label=\"Training Accuracy\")\n",
    "plt.plot(val_acc, label=\"Validation Accuracy\")\n",
    "# Set ylim for lines of best epoch\n",
    "plt.ylim([min(plt.ylim()), 1])\n",
    "plt.plot(\n",
    "    [es_callback.best_epoch + 1, es_callback.best_epoch + 1],\n",
    "    plt.ylim(),\n",
    "    label=\"Start Fine Tuning\",\n",
    ")\n",
    "plt.legend(loc=\"lower right\")\n",
    "plt.title(\"Accuracy\")\n",
    "# Plot loss\n",
    "plt.subplot(2, 1, 2)\n",
    "plt.semilogy(loss, label=\"Training Loss\")\n",
    "plt.semilogy(val_loss, label=\"Validation Loss\")\n",
    "# Set ylim for lines of best epoch\n",
    "plt.ylim([0, max(plt.ylim())])\n",
    "plt.plot(\n",
    "    [es_callback.best_epoch + 1, es_callback.best_epoch + 1],\n",
    "    plt.ylim(),\n",
    "    label=\"Start Fine Tuning\",\n",
    ")\n",
    "\n",
    "plt.legend(loc=\"upper right\")\n",
    "plt.title(\"Loss\")\n",
    "plt.show()"
   ]
  }
 ],
 "metadata": {
  "kaggle": {
   "accelerator": "gpu",
   "dataSources": [
    {
     "datasetId": 3993906,
     "sourceId": 6953643,
     "sourceType": "datasetVersion"
    }
   ],
   "dockerImageVersionId": 30588,
   "isGpuEnabled": true,
   "isInternetEnabled": true,
   "language": "python",
   "sourceType": "notebook"
  },
  "kernelspec": {
   "display_name": "Python 3 (ipykernel)",
   "language": "python",
   "name": "python3"
  },
  "language_info": {
   "codemirror_mode": {
    "name": "ipython",
    "version": 3
   },
   "file_extension": ".py",
   "mimetype": "text/x-python",
   "name": "python",
   "nbconvert_exporter": "python",
   "pygments_lexer": "ipython3",
   "version": "3.11.6"
  },
  "papermill": {
   "default_parameters": {},
   "duration": 4925.305535,
   "end_time": "2023-11-16T20:56:03.941892",
   "environment_variables": {},
   "exception": null,
   "input_path": "__notebook__.ipynb",
   "output_path": "__notebook__.ipynb",
   "parameters": {},
   "start_time": "2023-11-16T19:33:58.636357",
   "version": "2.4.0"
  }
 },
 "nbformat": 4,
 "nbformat_minor": 5
}
